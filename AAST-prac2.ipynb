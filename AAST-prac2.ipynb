{
 "cells": [
  {
   "cell_type": "code",
   "execution_count": null,
   "id": "e38c4adb",
   "metadata": {},
   "outputs": [],
   "source": [
    "import numpy as np\n",
    "import pickle\n",
    "import matplotlib.pylab as plt\n",
    "import nglview\n",
    "import ase, ase.io\n",
    "import mdtraj"
   ]
  },
  {
   "cell_type": "markdown",
   "id": "8a96ded3",
   "metadata": {},
   "source": [
    "# Part 1: PIMD"
   ]
  },
  {
   "cell_type": "code",
   "execution_count": null,
   "id": "e7940e06",
   "metadata": {},
   "outputs": [],
   "source": [
    "# Visualise the AIMD trajectory run\n",
    "pimd = ase.io.read('01-PIMD-ice/ICE-Ih-pos-1-1.xyz',':')\n",
    "nglview.show_asetraj(pimd)"
   ]
  },
  {
   "cell_type": "code",
   "execution_count": null,
   "id": "9a39a766",
   "metadata": {},
   "outputs": [],
   "source": [
    "# Compute time per step:\n",
    "energy_pimd = np.loadtxt('01-PIMD-ice/ICE-Ih-energy-1.dat')\n",
    "np.average(energy_pimd[:,7])"
   ]
  },
  {
   "cell_type": "code",
   "execution_count": null,
   "id": "2bd6fb71",
   "metadata": {},
   "outputs": [],
   "source": [
    "# Analyse Temperature and potential energy\n",
    "plt.plot(energy_pimd[:,1], energy_pimd[:,4])\n",
    "\n",
    "plt.ylabel('Temperature')\n",
    "plt.xlabel('Simulation time [fs]')\n",
    "plt.show()"
   ]
  },
  {
   "cell_type": "code",
   "execution_count": null,
   "id": "f91ffb09",
   "metadata": {},
   "outputs": [],
   "source": [
    "# TODO Plot for potential energy"
   ]
  },
  {
   "cell_type": "markdown",
   "id": "5579547a",
   "metadata": {},
   "source": [
    "# Part 2: PI convergence"
   ]
  },
  {
   "cell_type": "code",
   "execution_count": null,
   "id": "3076cbcd",
   "metadata": {},
   "outputs": [],
   "source": [
    "fn_ene = ! ls 02-CONVERGENCE/sim-P*/ICE-Ih-energy-1.dat\n",
    "fn_gyr = ! ls 02-CONVERGENCE/sim-P*/ICE-Ih-centroid-gyr-1.dat\n",
    "\n",
    "replica = [int(''.join(x for x in fn.split('/')[1] if x.isdigit())) for fn in fn_ene]\n",
    "res_ene = [np.loadtxt(fn) for fn in fn_ene]\n",
    "res_gyr = [np.loadtxt(fn) for fn in fn_gyr]"
   ]
  },
  {
   "cell_type": "code",
   "execution_count": null,
   "id": "33dbce51",
   "metadata": {},
   "outputs": [],
   "source": [
    "# Load results and analyse convergence\n",
    "plt.plot(replica, [np.average(ene[100:,5]) for ene in res_ene], 'o-')\n",
    "\n",
    "plt.xscale('log', basex=2)\n",
    "plt.xlabel('Replica')\n",
    "plt.ylabel('<E$_{pot}$> / hartree')\n",
    "plt.show()"
   ]
  },
  {
   "cell_type": "code",
   "execution_count": null,
   "id": "5eddf391",
   "metadata": {},
   "outputs": [],
   "source": [
    "# plot convergence for radius of gyration\n",
    "plt.plot(replica, [np.average(gyr[100:,::3]) for gyr in res_gyr], 'o-', label='O')\n",
    "plt.plot(replica, [np.average(gyr[100:,1::3]) for gyr in res_gyr], 'o-', label='H')\n",
    "\n",
    "plt.legend()\n",
    "plt.xscale('log', basex=2)\n",
    "plt.xlabel('Replica')\n",
    "plt.ylabel(r'<r$_{gyr}$> / $\\AA$')\n",
    "plt.show()"
   ]
  },
  {
   "cell_type": "markdown",
   "id": "06550a71",
   "metadata": {},
   "source": [
    "# Part 3: Production run"
   ]
  },
  {
   "cell_type": "code",
   "execution_count": null,
   "id": "c5a564dd",
   "metadata": {},
   "outputs": [],
   "source": [
    "# Analyse Temperature and potential energy\n",
    "energy_c = np.loadtxt('03-PRODUCTION/sim-P01/ICE-Ih-energy-1.dat')\n",
    "energy_q = np.loadtxt('03-PRODUCTION/sim-P32/ICE-Ih-energy-1.dat')\n",
    "\n",
    "plt.plot(energy_c[:,1], energy_c[:,4])\n",
    "plt.plot(energy_q[:,1], energy_q[:,4])\n",
    "\n",
    "plt.ylabel('Temperature')\n",
    "plt.xlabel('Simulation time [fs]')\n",
    "plt.show()"
   ]
  },
  {
   "cell_type": "code",
   "execution_count": null,
   "id": "038e821e",
   "metadata": {},
   "outputs": [],
   "source": [
    "# TODO plot potential"
   ]
  },
  {
   "cell_type": "code",
   "execution_count": null,
   "id": "bd503735",
   "metadata": {},
   "outputs": [],
   "source": [
    "def load_trj(fn, top):\n",
    "    top = mdtraj.load_frame(top, 0)\n",
    "    unitcell_lengths = top.unitcell_lengths\n",
    "    unitcell_angles = top.unitcell_angles\n",
    "\n",
    "    trj = mdtraj.load(fn, top=top)\n",
    "    len_trj = len(trj)\n",
    "    trj.unitcell_lengths = unitcell_lengths.repeat(len_trj, axis=0)\n",
    "    trj.unitcell_angles = unitcell_angles.repeat(len_trj, axis=0)\n",
    "    return trj"
   ]
  },
  {
   "cell_type": "code",
   "execution_count": null,
   "id": "80718c36",
   "metadata": {},
   "outputs": [],
   "source": [
    "def compute_gr(trj, t1='O', t2='O', n_bins=200):\n",
    "    top = trj.topology\n",
    "    idx_t1 = top.select('name ' + t1)\n",
    "    idx_t2 = top.select('name ' + t2)\n",
    "    pairs = trj.topology.select_pairs(idx_t1, idx_t2)\n",
    "    min_dimension = trj[0].unitcell_lengths.min() / 2\n",
    "    r, g_r = mdtraj.compute_rdf(trj, pairs, (0, min_dimension), n_bins=n_bins)\n",
    "    return r*10, g_r"
   ]
  },
  {
   "cell_type": "code",
   "execution_count": null,
   "id": "fe2e2ff1",
   "metadata": {},
   "outputs": [],
   "source": [
    "trj_c = load_trj('03-PRODUCTION/sim-P01/ICE-Ih-pos-1-1.xyz', '01-PIMD-ice/ice-Ih.pdb')\n",
    "trj_q = load_trj('03-PRODUCTION/sim-P32/ICE-Ih-pos-1-1.xyz','01-PIMD-ice/ice-Ih.pdb')"
   ]
  },
  {
   "cell_type": "code",
   "execution_count": null,
   "id": "624788bc",
   "metadata": {},
   "outputs": [],
   "source": [
    "r_c, gr_c = compute_gr(trj_c, 'O', 'O')\n",
    "r_q, gr_q = compute_gr(trj_q, 'O', 'O')"
   ]
  },
  {
   "cell_type": "code",
   "execution_count": null,
   "id": "785422c5",
   "metadata": {},
   "outputs": [],
   "source": [
    "# Plot gr\n",
    "\n",
    "plt.plot(r_c, gr_c, label='Classical')\n",
    "plt.plot(r_q, gr_q, label='Quantum')\n",
    "\n",
    "plt.legend()\n",
    "plt.xlim(xmin=2)\n",
    "plt.ylabel('g(r)')\n",
    "plt.xlabel('Distance / $\\AA$')\n",
    "\n",
    "plt.show()"
   ]
  },
  {
   "cell_type": "code",
   "execution_count": null,
   "id": "0ed6c944",
   "metadata": {},
   "outputs": [],
   "source": [
    "# TODO repeat the same for O-H and H-H"
   ]
  }
 ],
 "metadata": {
  "kernelspec": {
   "display_name": "Python 3",
   "language": "python",
   "name": "python3"
  },
  "language_info": {
   "codemirror_mode": {
    "name": "ipython",
    "version": 3
   },
   "file_extension": ".py",
   "mimetype": "text/x-python",
   "name": "python",
   "nbconvert_exporter": "python",
   "pygments_lexer": "ipython3",
   "version": "3.8.10"
  }
 },
 "nbformat": 4,
 "nbformat_minor": 5
}
